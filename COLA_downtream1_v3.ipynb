{
  "nbformat": 4,
  "nbformat_minor": 0,
  "metadata": {
    "kernelspec": {
      "language": "python",
      "display_name": "Python 3",
      "name": "python3"
    },
    "language_info": {
      "name": "python",
      "version": "3.7.9",
      "mimetype": "text/x-python",
      "codemirror_mode": {
        "name": "ipython",
        "version": 3
      },
      "pygments_lexer": "ipython3",
      "nbconvert_exporter": "python",
      "file_extension": ".py"
    },
    "colab": {
      "provenance": [],
      "machine_shape": "hm"
    },
    "accelerator": "GPU"
  },
  "cells": [
    {
      "cell_type": "markdown",
      "metadata": {
        "id": "oragzO1vf5tK"
      },
      "source": [
        "# kaggle"
      ]
    },
    {
      "cell_type": "code",
      "metadata": {
        "id": "rVgvgsGrZb0N"
      },
      "source": [
        "# Google drive setup\n",
        "from google.colab import drive\n",
        "drive.mount(\"/content/gdrive\", force_remount=True)"
      ],
      "execution_count": null,
      "outputs": []
    },
    {
      "cell_type": "code",
      "metadata": {
        "colab": {
          "base_uri": "https://localhost:8080/"
        },
        "id": "ImGLdv-qZdWM",
        "outputId": "d491e7ec-6394-460b-ce31-c30c98c0c54a"
      },
      "source": [
        "import json\n",
        "token = {\"username\":\"xuwenqiu\",\"key\":\"e15af4db4983e1b2aa75c8e658bbbe9e\"}\n",
        "with open('/content/kaggle.json', 'w') as file:\n",
        "  json.dump(token, file)\n",
        "!mkdir -p ~/.kaggle\n",
        "!cp /content/kaggle.json ~/.kaggle/\n",
        "!chmod 600 ~/.kaggle/kaggle.json\n",
        "!kaggle config set -n path -v/content"
      ],
      "execution_count": null,
      "outputs": [
        {
          "output_type": "stream",
          "name": "stdout",
          "text": [
            "- path is now set to: /content\n"
          ]
        }
      ]
    },
    {
      "cell_type": "code",
      "metadata": {
        "colab": {
          "base_uri": "https://localhost:8080/"
        },
        "id": "JA26nGGAYV_H",
        "outputId": "766f103c-1ae1-4a23-b4c1-a5fd0b4eb0e6"
      },
      "source": [
        "!kaggle datasets download -d andradaolteanu/gtzan-dataset-music-genre-classification\n",
        "!unzip -qo '/content/datasets/andradaolteanu/gtzan-dataset-music-genre-classification/gtzan-dataset-music-genre-classification.zip'"
      ],
      "execution_count": null,
      "outputs": [
        {
          "output_type": "stream",
          "name": "stdout",
          "text": [
            "Downloading gtzan-dataset-music-genre-classification.zip to /content/datasets/andradaolteanu/gtzan-dataset-music-genre-classification\n",
            "100% 1.21G/1.21G [00:08<00:00, 148MB/s]\n",
            "100% 1.21G/1.21G [00:08<00:00, 151MB/s]\n"
          ]
        }
      ]
    },
    {
      "cell_type": "code",
      "metadata": {
        "_uuid": "8f2839f25d086af736a60e9eeb907d3b93b6e0e5",
        "_cell_guid": "b1076dfc-b9ad-4769-8c92-a6c4dae69d19",
        "_kg_hide-input": true,
        "_kg_hide-output": true,
        "execution": {
          "iopub.status.busy": "2021-11-27T21:31:25.192139Z",
          "iopub.execute_input": "2021-11-27T21:31:25.192510Z",
          "iopub.status.idle": "2021-11-27T21:31:25.199378Z",
          "shell.execute_reply.started": "2021-11-27T21:31:25.192477Z",
          "shell.execute_reply": "2021-11-27T21:31:25.197910Z"
        },
        "trusted": true,
        "id": "XHFQ7GzLYAVr"
      },
      "source": [
        "import numpy as np\n",
        "import pandas as pd\n",
        "\n",
        "import random\n",
        "\n",
        "import librosa\n",
        "\n",
        "import os\n",
        "\n",
        "import torch\n",
        "from torch import optim\n",
        "from torch import nn\n",
        "\n",
        "import torchaudio\n",
        "from torch.utils.data import Dataset, DataLoader\n",
        "import torch.nn.functional as F\n",
        "from tqdm import tqdm\n",
        "\n",
        "from sklearn.utils import shuffle\n",
        "import matplotlib.pyplot as plt"
      ],
      "execution_count": null,
      "outputs": []
    },
    {
      "cell_type": "markdown",
      "metadata": {
        "id": "8ZloXPtSYAVs"
      },
      "source": [
        "# Dataset"
      ]
    },
    {
      "cell_type": "code",
      "metadata": {
        "execution": {
          "iopub.status.busy": "2021-11-27T21:31:30.437557Z",
          "iopub.execute_input": "2021-11-27T21:31:30.438065Z",
          "iopub.status.idle": "2021-11-27T21:31:30.467351Z",
          "shell.execute_reply.started": "2021-11-27T21:31:30.438022Z",
          "shell.execute_reply": "2021-11-27T21:31:30.466155Z"
        },
        "trusted": true,
        "id": "Q6ZPOxH9YAVt"
      },
      "source": [
        "class MusicDS(Dataset):\n",
        "    # Prepare the exact file path of the audio files and the corresponding labels\n",
        "    def __init__(self, path):\n",
        "        labels = os.listdir(path)\n",
        "        self.idx_to_labels = {k:v for k,v in enumerate(labels)}\n",
        "        self.labels_to_idx = {v:k for k,v in enumerate(labels)}\n",
        "        \n",
        "        songs_lists = [os.listdir(path + l) for l in labels]\n",
        "        songs_lists = [list(map(list, zip([path + labels[i] + '/' for a in range(len(sl))],sl))) for i,sl in enumerate(songs_lists)]\n",
        "        labels = np.array([[s[0].split('/')[-2] for s in l] for l in songs_lists])\n",
        "        labels = labels.reshape(labels.shape[0] * labels.shape[1])\n",
        "        \n",
        "        songs_lists = np.array([[s[0] + s[1] for s in l] for l in songs_lists])\n",
        "        songs_lists = songs_lists.reshape(songs_lists.shape[0] * songs_lists.shape[1])\n",
        "        self.labels, self.songs_lists = shuffle(labels, songs_lists)\n",
        "    \n",
        "    def __len__(self):\n",
        "        return len(self.songs_lists)\n",
        "\n",
        "    # Transform the numpy array to mel spectrum\n",
        "    def pre_process_audio_mel_t(self, audio, sample_rate=16000):\n",
        "        mel_spec = librosa.feature.melspectrogram(y=audio, sr=sample_rate, n_mels=64)\n",
        "        mel_db = (librosa.power_to_db(mel_spec, ref=np.max) + 40) / 40\n",
        "        return mel_db.T\n",
        "        \n",
        "    def random_mask(self, data, rate_start=0.1, rate_seq=0.2):\n",
        "        new_data = data.copy()\n",
        "        mean = new_data.mean()\n",
        "        prev_zero = False\n",
        "        for i in range(new_data.shape[0]):\n",
        "            if random.random() < rate_start or (\n",
        "                prev_zero and random.random() < rate_seq\n",
        "            ):\n",
        "                prev_zero = True\n",
        "                new_data[i, :] = mean\n",
        "            else:\n",
        "                prev_zero = False\n",
        "\n",
        "        return new_data\n",
        "\n",
        "    def random_multiply(self, data):\n",
        "        new_data = data.copy()\n",
        "        return new_data * (0.9 + random.random() / 5.)\n",
        "    \n",
        "    def __getitem__(self, idx):\n",
        "        song_path = self.songs_lists[idx]\n",
        "\n",
        "        try:\n",
        "            # Load the .wav file into a numpy array\n",
        "            fff, sr = librosa.load(song_path)\n",
        "        except:\n",
        "            idx += 1\n",
        "            song_path = self.songs_lists[idx]\n",
        "            fff, sr = librosa.load(song_path)\n",
        "\n",
        "        # Transform the numpy array into the mel spectrum\n",
        "        # the shape should be similar to `(1293, 64)`\n",
        "        melspectrum = self.pre_process_audio_mel_t(fff, sr)[:1250]\n",
        "        \n",
        "        # Data augmentation\n",
        "        # random mask the mel spectrum\n",
        "        x = self.random_mask(melspectrum)\n",
        "        # add random noise\n",
        "        x = self.random_multiply(x)\n",
        "\n",
        "        # get the corresponding label index\n",
        "        y = self.labels_to_idx[self.labels[idx]]\n",
        "\n",
        "        return x, y"
      ],
      "execution_count": null,
      "outputs": []
    },
    {
      "cell_type": "code",
      "metadata": {
        "id": "zonBw7PdH87s"
      },
      "source": [
        "path = '/content/Data/genres_original/'\n",
        "music_ds = MusicDS(path)"
      ],
      "execution_count": null,
      "outputs": []
    },
    {
      "cell_type": "code",
      "metadata": {
        "colab": {
          "base_uri": "https://localhost:8080/"
        },
        "id": "P6Lf_DJVH_uz",
        "outputId": "2072d604-e2bf-44f1-8c79-2761e0194b52"
      },
      "source": [
        "# 这是一个 经过数据增强处理的 二维 mel spectrum\n",
        "music_ds[100][0].shape"
      ],
      "execution_count": null,
      "outputs": [
        {
          "output_type": "execute_result",
          "data": {
            "text/plain": [
              "(1250, 64)"
            ]
          },
          "metadata": {},
          "execution_count": 24
        }
      ]
    },
    {
      "cell_type": "code",
      "metadata": {
        "execution": {
          "iopub.status.busy": "2021-11-27T21:31:39.358748Z",
          "iopub.execute_input": "2021-11-27T21:31:39.359546Z",
          "iopub.status.idle": "2021-11-27T21:31:39.371553Z",
          "shell.execute_reply.started": "2021-11-27T21:31:39.359491Z",
          "shell.execute_reply": "2021-11-27T21:31:39.370251Z"
        },
        "trusted": true,
        "id": "sWU6Sp_LYAVu",
        "colab": {
          "base_uri": "https://localhost:8080/"
        },
        "outputId": "fad12f49-83ce-4f18-91bb-04ceb82c76d6"
      },
      "source": [
        "test_size = int(len(music_ds) * 0.2)\n",
        "train_size = int(len(music_ds) - test_size)\n",
        "\n",
        "train_dataset, test_dataset = torch.utils.data.random_split(music_ds, [train_size, test_size])\n",
        "\n",
        "train_loader = DataLoader(train_dataset, batch_size=32, num_workers=4, shuffle=True)\n",
        "test_loader = DataLoader(test_dataset, batch_size=32, num_workers=4, shuffle=False)"
      ],
      "execution_count": null,
      "outputs": [
        {
          "output_type": "stream",
          "name": "stderr",
          "text": [
            "/usr/local/lib/python3.7/dist-packages/torch/utils/data/dataloader.py:481: UserWarning: This DataLoader will create 4 worker processes in total. Our suggested max number of worker in current system is 2, which is smaller than what this DataLoader is going to create. Please be aware that excessive worker creation might get DataLoader running slow or even freeze, lower the worker number to avoid potential slowness/freeze if necessary.\n",
            "  cpuset_checked))\n"
          ]
        }
      ]
    },
    {
      "cell_type": "markdown",
      "metadata": {
        "id": "UfaaGHwZYAVv"
      },
      "source": [
        "#Network-original"
      ]
    },
    {
      "cell_type": "code",
      "metadata": {
        "execution": {
          "iopub.status.busy": "2021-11-27T21:31:42.112179Z",
          "iopub.execute_input": "2021-11-27T21:31:42.112884Z",
          "iopub.status.idle": "2021-11-27T21:31:42.130319Z",
          "shell.execute_reply.started": "2021-11-27T21:31:42.112830Z",
          "shell.execute_reply": "2021-11-27T21:31:42.128802Z"
        },
        "trusted": true,
        "id": "6jhn2YBkYAVw"
      },
      "source": [
        "class Net(nn.Module):\n",
        "    def __init__(self, n_input=2, n_output=10, stride=16, n_channel=32):\n",
        "        super().__init__()\n",
        "        self.conv1 = nn.Conv1d(n_input, n_channel, kernel_size=80, stride=stride)\n",
        "        self.bn1 = nn.BatchNorm1d(n_channel)\n",
        "        self.pool1 = nn.MaxPool1d(4)\n",
        "        self.conv2 = nn.Conv1d(n_channel, n_channel, kernel_size=3)\n",
        "        self.bn2 = nn.BatchNorm1d(n_channel)\n",
        "        self.pool2 = nn.MaxPool1d(4)\n",
        "        self.conv3 = nn.Conv1d(n_channel, 2 * n_channel, kernel_size=3)\n",
        "        self.bn3 = nn.BatchNorm1d(2 * n_channel)\n",
        "        self.pool3 = nn.MaxPool1d(4)\n",
        "        self.conv4 = nn.Conv1d(2 * n_channel, 2 * n_channel, kernel_size=3)\n",
        "        self.bn4 = nn.BatchNorm1d(2 * n_channel)\n",
        "        self.pool4 = nn.MaxPool1d(4)\n",
        "        self.fc1 = nn.Linear(2 * n_channel, n_output)\n",
        "\n",
        "    def forward(self, x):\n",
        "        x = self.conv1(x)\n",
        "        x = F.relu(self.bn1(x))\n",
        "        x = self.pool1(x)\n",
        "        x = self.conv2(x)\n",
        "        x = F.relu(self.bn2(x))\n",
        "        x = self.pool2(x)\n",
        "        x = self.conv3(x)\n",
        "        x = F.relu(self.bn3(x))\n",
        "        x = self.pool3(x)\n",
        "        x = self.conv4(x)\n",
        "        x = F.relu(self.bn4(x))\n",
        "        x = self.pool4(x)\n",
        "        x = F.avg_pool1d(x, x.shape[-1])\n",
        "        x = x.permute(0, 2, 1)\n",
        "        x = self.fc1(x)\n",
        "        return F.log_softmax(x, dim=2)"
      ],
      "execution_count": null,
      "outputs": []
    },
    {
      "cell_type": "code",
      "metadata": {
        "execution": {
          "iopub.status.busy": "2021-11-27T21:31:44.844491Z",
          "iopub.execute_input": "2021-11-27T21:31:44.845048Z",
          "iopub.status.idle": "2021-11-27T21:31:44.868900Z",
          "shell.execute_reply.started": "2021-11-27T21:31:44.845011Z",
          "shell.execute_reply": "2021-11-27T21:31:44.867706Z"
        },
        "trusted": true,
        "id": "ujVbW6fYYAVw"
      },
      "source": [
        "device = torch.device(\"cuda:0\" if torch.cuda.is_available() else \"cpu\")\n",
        "net = Net().to(device)"
      ],
      "execution_count": null,
      "outputs": []
    },
    {
      "cell_type": "markdown",
      "metadata": {
        "id": "5tbo7J-rfZSi"
      },
      "source": [
        "# Network-COLA"
      ]
    },
    {
      "cell_type": "code",
      "metadata": {
        "colab": {
          "base_uri": "https://localhost:8080/"
        },
        "id": "lgOPOPQaeV3D",
        "outputId": "7aff9e98-7c7a-47ff-854c-6c88a05a5348"
      },
      "source": [
        "!pip install efficientnet_pytorch\n",
        "from efficientnet_pytorch import EfficientNet"
      ],
      "execution_count": null,
      "outputs": [
        {
          "output_type": "stream",
          "name": "stdout",
          "text": [
            "Requirement already satisfied: efficientnet_pytorch in /usr/local/lib/python3.7/dist-packages (0.7.1)\n",
            "Requirement already satisfied: torch in /usr/local/lib/python3.7/dist-packages (from efficientnet_pytorch) (1.10.0+cu111)\n",
            "Requirement already satisfied: typing-extensions in /usr/local/lib/python3.7/dist-packages (from torch->efficientnet_pytorch) (3.10.0.2)\n"
          ]
        }
      ]
    },
    {
      "cell_type": "code",
      "metadata": {
        "id": "FnmXcqvtb1_I"
      },
      "source": [
        "class Encoder(torch.nn.Module):\n",
        "    def __init__(self, drop_connect_rate=0.1):\n",
        "        super(Encoder, self).__init__()\n",
        "\n",
        "        self.cnn1 = torch.nn.Conv2d(1, 3, kernel_size=3)\n",
        "        self.efficientnet = EfficientNet.from_name(\n",
        "            \"efficientnet-b0\", include_top=False, drop_connect_rate=drop_connect_rate\n",
        "        )\n",
        "\n",
        "    def forward(self, x):\n",
        "        x = x.unsqueeze(1)\n",
        "\n",
        "        x = self.cnn1(x)\n",
        "        x = self.efficientnet(x)\n",
        "\n",
        "        y = x.squeeze(3).squeeze(2)\n",
        "\n",
        "        return y"
      ],
      "execution_count": null,
      "outputs": []
    },
    {
      "cell_type": "code",
      "metadata": {
        "id": "jgSljLjwblLq"
      },
      "source": [
        "def freeze(layer):\n",
        "    for child in layer.children():\n",
        "        for param in child.parameters():\n",
        "            param.requires_grad = False"
      ],
      "execution_count": null,
      "outputs": []
    },
    {
      "cell_type": "code",
      "metadata": {
        "id": "n1SIDyXjcoE8"
      },
      "source": [
        "class AudioClassifier(torch.nn.Module):\n",
        "    def __init__(self, classes=10, p=0.1):\n",
        "        super().__init__()\n",
        "        # self.save_hyperparameters()\n",
        "\n",
        "        self.p = p\n",
        "\n",
        "        self.do = torch.nn.Dropout(p=self.p)\n",
        "\n",
        "        self.encoder = Encoder(drop_connect_rate=self.p)\n",
        "        \n",
        "        # freeze the parameters of the encoder layer\n",
        "        freeze(self.encoder)\n",
        "\n",
        "        self.g = torch.nn.Linear(1280, 1024)\n",
        "        self.layer_norm = torch.nn.LayerNorm(normalized_shape=1024)\n",
        "\n",
        "        self.fc1 = torch.nn.Linear(1024, 512)\n",
        "        self.fy = torch.nn.Linear(512, classes)\n",
        "\n",
        "    def forward(self, x):\n",
        "        #print(x.shape)\n",
        "        x = self.do(self.encoder(x))\n",
        "        #print(x.shape)\n",
        "\n",
        "        x = self.do(self.g(x))\n",
        "        x = self.do(torch.tanh(self.layer_norm(x)))\n",
        "\n",
        "        x = F.relu(self.do(self.fc1(x)))\n",
        "        y_hat = self.fy(x)\n",
        "\n",
        "        return y_hat"
      ],
      "execution_count": null,
      "outputs": []
    },
    {
      "cell_type": "code",
      "metadata": {
        "colab": {
          "base_uri": "https://localhost:8080/",
          "height": 463
        },
        "id": "0nyZFOIUdFAG",
        "outputId": "9c828ea1-07ce-4c07-b11a-64b79cba293a"
      },
      "source": [
        "device = torch.device(\"cuda:0\" if torch.cuda.is_available() else \"cpu\")\n",
        "\n",
        "net = AudioClassifier().to(device)\n",
        "temp = torch.load('/content/epoch=80-step=12311.ckpt') \n",
        "net.load_state_dict(temp['state_dict'], strict=False)"
      ],
      "execution_count": null,
      "outputs": [
        {
          "output_type": "error",
          "ename": "RuntimeError",
          "evalue": "ignored",
          "traceback": [
            "\u001b[0;31m---------------------------------------------------------------------------\u001b[0m",
            "\u001b[0;31mRuntimeError\u001b[0m                              Traceback (most recent call last)",
            "\u001b[0;32m<ipython-input-44-3b05f0a15fce>\u001b[0m in \u001b[0;36m<module>\u001b[0;34m()\u001b[0m\n\u001b[1;32m      3\u001b[0m \u001b[0mnet\u001b[0m \u001b[0;34m=\u001b[0m \u001b[0mAudioClassifier\u001b[0m\u001b[0;34m(\u001b[0m\u001b[0;34m)\u001b[0m\u001b[0;34m.\u001b[0m\u001b[0mto\u001b[0m\u001b[0;34m(\u001b[0m\u001b[0mdevice\u001b[0m\u001b[0;34m)\u001b[0m\u001b[0;34m\u001b[0m\u001b[0;34m\u001b[0m\u001b[0m\n\u001b[1;32m      4\u001b[0m \u001b[0mtemp\u001b[0m \u001b[0;34m=\u001b[0m \u001b[0mtorch\u001b[0m\u001b[0;34m.\u001b[0m\u001b[0mload\u001b[0m\u001b[0;34m(\u001b[0m\u001b[0;34m'/content/epoch=80-step=12311.ckpt'\u001b[0m\u001b[0;34m)\u001b[0m\u001b[0;34m\u001b[0m\u001b[0;34m\u001b[0m\u001b[0m\n\u001b[0;32m----> 5\u001b[0;31m \u001b[0mnet\u001b[0m\u001b[0;34m.\u001b[0m\u001b[0mload_state_dict\u001b[0m\u001b[0;34m(\u001b[0m\u001b[0mtemp\u001b[0m\u001b[0;34m[\u001b[0m\u001b[0;34m'state_dict'\u001b[0m\u001b[0;34m]\u001b[0m\u001b[0;34m,\u001b[0m \u001b[0mstrict\u001b[0m\u001b[0;34m=\u001b[0m\u001b[0;32mFalse\u001b[0m\u001b[0;34m)\u001b[0m\u001b[0;34m\u001b[0m\u001b[0;34m\u001b[0m\u001b[0m\n\u001b[0m",
            "\u001b[0;32m/usr/local/lib/python3.7/dist-packages/torch/nn/modules/module.py\u001b[0m in \u001b[0;36mload_state_dict\u001b[0;34m(self, state_dict, strict)\u001b[0m\n\u001b[1;32m   1481\u001b[0m         \u001b[0;32mif\u001b[0m \u001b[0mlen\u001b[0m\u001b[0;34m(\u001b[0m\u001b[0merror_msgs\u001b[0m\u001b[0;34m)\u001b[0m \u001b[0;34m>\u001b[0m \u001b[0;36m0\u001b[0m\u001b[0;34m:\u001b[0m\u001b[0;34m\u001b[0m\u001b[0;34m\u001b[0m\u001b[0m\n\u001b[1;32m   1482\u001b[0m             raise RuntimeError('Error(s) in loading state_dict for {}:\\n\\t{}'.format(\n\u001b[0;32m-> 1483\u001b[0;31m                                self.__class__.__name__, \"\\n\\t\".join(error_msgs)))\n\u001b[0m\u001b[1;32m   1484\u001b[0m         \u001b[0;32mreturn\u001b[0m \u001b[0m_IncompatibleKeys\u001b[0m\u001b[0;34m(\u001b[0m\u001b[0mmissing_keys\u001b[0m\u001b[0;34m,\u001b[0m \u001b[0munexpected_keys\u001b[0m\u001b[0;34m)\u001b[0m\u001b[0;34m\u001b[0m\u001b[0;34m\u001b[0m\u001b[0m\n\u001b[1;32m   1485\u001b[0m \u001b[0;34m\u001b[0m\u001b[0m\n",
            "\u001b[0;31mRuntimeError\u001b[0m: Error(s) in loading state_dict for AudioClassifier:\n\tsize mismatch for g.weight: copying a param with shape torch.Size([512, 1280]) from checkpoint, the shape in current model is torch.Size([1024, 1280]).\n\tsize mismatch for g.bias: copying a param with shape torch.Size([512]) from checkpoint, the shape in current model is torch.Size([1024]).\n\tsize mismatch for layer_norm.weight: copying a param with shape torch.Size([512]) from checkpoint, the shape in current model is torch.Size([1024]).\n\tsize mismatch for layer_norm.bias: copying a param with shape torch.Size([512]) from checkpoint, the shape in current model is torch.Size([1024])."
          ]
        }
      ]
    },
    {
      "cell_type": "markdown",
      "metadata": {
        "id": "kXbnLCmmYAVx"
      },
      "source": [
        "# Training\n"
      ]
    },
    {
      "cell_type": "code",
      "metadata": {
        "execution": {
          "iopub.status.busy": "2021-11-27T21:31:46.777970Z",
          "iopub.execute_input": "2021-11-27T21:31:46.778374Z",
          "iopub.status.idle": "2021-11-27T21:31:46.784849Z",
          "shell.execute_reply.started": "2021-11-27T21:31:46.778339Z",
          "shell.execute_reply": "2021-11-27T21:31:46.783741Z"
        },
        "trusted": true,
        "id": "GvA2oxsUYAVx"
      },
      "source": [
        "optimizer = optim.Adam(net.parameters(), lr=0.01, weight_decay=0.0001)\n",
        "scheduler = optim.lr_scheduler.StepLR(optimizer, step_size=5, gamma=0.5)"
      ],
      "execution_count": null,
      "outputs": []
    },
    {
      "cell_type": "code",
      "metadata": {
        "execution": {
          "iopub.status.busy": "2021-11-27T21:31:55.050712Z",
          "iopub.execute_input": "2021-11-27T21:31:55.051074Z",
          "iopub.status.idle": "2021-11-27T21:31:55.058569Z",
          "shell.execute_reply.started": "2021-11-27T21:31:55.051041Z",
          "shell.execute_reply": "2021-11-27T21:31:55.057310Z"
        },
        "trusted": true,
        "id": "Fvb11IXaYAVx"
      },
      "source": [
        "def train(model, epoch):\n",
        "\n",
        "    losses = []\n",
        "    for batch_idx, (data, target) in tqdm(enumerate(train_loader)):\n",
        "\n",
        "        data = data.to(device)\n",
        "        target = target.to(device)\n",
        "\n",
        "        output = model(data).to(device)\n",
        "\n",
        "        loss = nn.CrossEntropyLoss()(output.squeeze(), target)\n",
        "        losses.append(loss.item())\n",
        "\n",
        "        optimizer.zero_grad()\n",
        "        loss.backward()\n",
        "        optimizer.step()\n",
        "        \n",
        "    return losses"
      ],
      "execution_count": null,
      "outputs": []
    },
    {
      "cell_type": "code",
      "metadata": {
        "execution": {
          "iopub.status.busy": "2021-11-27T21:32:00.745376Z",
          "iopub.execute_input": "2021-11-27T21:32:00.745785Z",
          "iopub.status.idle": "2021-11-27T21:32:00.754629Z",
          "shell.execute_reply.started": "2021-11-27T21:32:00.745751Z",
          "shell.execute_reply": "2021-11-27T21:32:00.752795Z"
        },
        "trusted": true,
        "id": "3ttf-NpQYAVy"
      },
      "source": [
        "def number_of_correct(pred, target):\n",
        "    return pred.squeeze().eq(target).sum().item()\n",
        "\n",
        "\n",
        "def get_likely_index(tensor):\n",
        "    return tensor.argmax(dim=-1)\n",
        "\n",
        "\n",
        "def test(model, epoch):\n",
        "    model.eval()\n",
        "    correct = 0\n",
        "\n",
        "    for data, target in test_loader:\n",
        "\n",
        "        data = data.to(device)\n",
        "        target = target.to(device)\n",
        "\n",
        "        output = model(data).to(device)\n",
        "\n",
        "        pred = get_likely_index(output)\n",
        "        correct += number_of_correct(pred, target)\n",
        "\n",
        "    accuracy = 100. * correct / len(test_loader.dataset)\n",
        "    return accuracy"
      ],
      "execution_count": null,
      "outputs": []
    },
    {
      "cell_type": "code",
      "metadata": {
        "id": "yoDc4Ag_bKmW"
      },
      "source": [
        "import warnings\n",
        "warnings.filterwarnings('ignore')"
      ],
      "execution_count": null,
      "outputs": []
    },
    {
      "cell_type": "code",
      "metadata": {
        "execution": {
          "iopub.status.busy": "2021-11-27T21:38:26.278835Z",
          "iopub.execute_input": "2021-11-27T21:38:26.279297Z"
        },
        "trusted": true,
        "id": "ZMK0LUOzYAVy"
      },
      "source": [
        "n_epoch = 60\n",
        "\n",
        "losses = []\n",
        "accuracies = []\n",
        "\n",
        "for epoch in range(1, n_epoch + 1):\n",
        "    loss = train(net, epoch)\n",
        "    losses.append(sum(loss) / len(loss))\n",
        "\n",
        "    accuracy = test(net, epoch)\n",
        "    accuracies.append(accuracy)\n",
        "    print(\"validation accuracy:\", accuracy)\n",
        "    scheduler.step()"
      ],
      "execution_count": null,
      "outputs": []
    },
    {
      "cell_type": "code",
      "metadata": {
        "colab": {
          "base_uri": "https://localhost:8080/"
        },
        "id": "PLTx0_T3irI8",
        "outputId": "c8b6cb5e-98ef-4afb-ec03-a43d8ccec5ca"
      },
      "source": [
        "print(loss)"
      ],
      "execution_count": null,
      "outputs": [
        {
          "output_type": "stream",
          "name": "stdout",
          "text": [
            "[-4810.18896484375, -5415.7587890625, -5991.45849609375, -6573.8076171875, -7255.6689453125, -7969.556640625, -8697.8125, -9500.5498046875, -10278.1728515625, -11154.119140625, -12068.97265625, -13036.6552734375, -14122.6455078125, -15198.2529296875, -16191.025390625, -17431.650390625, -18448.052734375, -19853.86328125, -21068.638671875, -22291.828125, -23884.166015625, -25169.0546875, -26549.11328125, -28329.650390625, -29899.80078125]\n"
          ]
        }
      ]
    },
    {
      "cell_type": "markdown",
      "metadata": {
        "id": "TpzS1fUBYAVy"
      },
      "source": [
        "# Analysis"
      ]
    },
    {
      "cell_type": "code",
      "metadata": {
        "_kg_hide-input": true,
        "execution": {
          "iopub.status.busy": "2021-11-27T21:36:35.779349Z",
          "iopub.execute_input": "2021-11-27T21:36:35.779699Z",
          "iopub.status.idle": "2021-11-27T21:36:35.976127Z",
          "shell.execute_reply.started": "2021-11-27T21:36:35.779668Z",
          "shell.execute_reply": "2021-11-27T21:36:35.974886Z"
        },
        "trusted": true,
        "id": "XyWmDe56YAVz",
        "colab": {
          "base_uri": "https://localhost:8080/",
          "height": 516
        },
        "outputId": "7c27b2ee-f5bd-4ef0-e06f-0fe8f725488d"
      },
      "source": [
        "plt.figure(figsize=(14,8))\n",
        "plt.title('Accuracies')\n",
        "plt.plot(accuracies)"
      ],
      "execution_count": null,
      "outputs": [
        {
          "output_type": "execute_result",
          "data": {
            "text/plain": [
              "[<matplotlib.lines.Line2D at 0x7f2dad913a90>]"
            ]
          },
          "metadata": {},
          "execution_count": 34
        },
        {
          "output_type": "display_data",
          "data": {
            "image/png": "[encoded data removed]",
            "text/plain": [
              "<Figure size 1008x576 with 1 Axes>"
            ]
          },
          "metadata": {
            "needs_background": "light"
          }
        }
      ]
    },
    {
      "cell_type": "code",
      "metadata": {
        "_kg_hide-input": true,
        "execution": {
          "iopub.status.busy": "2021-11-27T21:37:40.921784Z",
          "iopub.execute_input": "2021-11-27T21:37:40.923176Z",
          "iopub.status.idle": "2021-11-27T21:37:41.120023Z",
          "shell.execute_reply.started": "2021-11-27T21:37:40.923109Z",
          "shell.execute_reply": "2021-11-27T21:37:41.118566Z"
        },
        "trusted": true,
        "id": "DtmKJt0dYAVz"
      },
      "source": [
        "plt.figure(figsize=(14,8))\n",
        "plt.title('Losses')\n",
        "plt.plot(losses)"
      ],
      "execution_count": null,
      "outputs": []
    }
  ]
}